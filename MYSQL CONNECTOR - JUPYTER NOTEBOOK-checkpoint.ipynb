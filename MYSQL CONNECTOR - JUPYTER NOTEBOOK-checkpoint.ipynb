{
 "cells": [
  {
   "cell_type": "code",
   "execution_count": 1,
   "metadata": {},
   "outputs": [],
   "source": [
    "import os\n",
    "import pandas as pd\n",
    "import numpy as np\n",
    "import matplotlib.pyplot as plt\n",
    "import mysql.connector\n",
    "import seaborn as sns\n",
    "%matplotlib inline"
   ]
  },
  {
   "cell_type": "code",
   "execution_count": 2,
   "metadata": {},
   "outputs": [],
   "source": [
    "user_name = os.environ.get('DB_USER')\n",
    "password = os.environ.get('DB_PASS')"
   ]
  },
  {
   "cell_type": "code",
   "execution_count": 3,
   "metadata": {},
   "outputs": [],
   "source": [
    "connection = mysql.connector.connect(host = 'localhost',\n",
    "                                    user = 'root',\n",
    "                                    passwd = 'Marcelo@21',\n",
    "                                    db = 'my_db')"
   ]
  },
  {
   "cell_type": "code",
   "execution_count": 4,
   "metadata": {},
   "outputs": [
    {
     "data": {
      "text/plain": [
       "<mysql.connector.connection_cext.CMySQLConnection at 0x17fb08d6ec8>"
      ]
     },
     "execution_count": 4,
     "metadata": {},
     "output_type": "execute_result"
    }
   ],
   "source": [
    "connection"
   ]
  },
  {
   "cell_type": "code",
   "execution_count": 5,
   "metadata": {},
   "outputs": [],
   "source": [
    "emp_table = pd.read_sql_query('SHOW TABLES FROM my_db', connection)"
   ]
  },
  {
   "cell_type": "code",
   "execution_count": 6,
   "metadata": {},
   "outputs": [
    {
     "data": {
      "text/html": [
       "<div>\n",
       "<style scoped>\n",
       "    .dataframe tbody tr th:only-of-type {\n",
       "        vertical-align: middle;\n",
       "    }\n",
       "\n",
       "    .dataframe tbody tr th {\n",
       "        vertical-align: top;\n",
       "    }\n",
       "\n",
       "    .dataframe thead th {\n",
       "        text-align: right;\n",
       "    }\n",
       "</style>\n",
       "<table border=\"1\" class=\"dataframe\">\n",
       "  <thead>\n",
       "    <tr style=\"text-align: right;\">\n",
       "      <th></th>\n",
       "      <th>Tables_in_my_db</th>\n",
       "    </tr>\n",
       "  </thead>\n",
       "  <tbody>\n",
       "    <tr>\n",
       "      <td>0</td>\n",
       "      <td>categories</td>\n",
       "    </tr>\n",
       "    <tr>\n",
       "      <td>1</td>\n",
       "      <td>pivot</td>\n",
       "    </tr>\n",
       "    <tr>\n",
       "      <td>2</td>\n",
       "      <td>sample</td>\n",
       "    </tr>\n",
       "    <tr>\n",
       "      <td>3</td>\n",
       "      <td>sample1</td>\n",
       "    </tr>\n",
       "    <tr>\n",
       "      <td>4</td>\n",
       "      <td>sample2</td>\n",
       "    </tr>\n",
       "    <tr>\n",
       "      <td>5</td>\n",
       "      <td>sample_1</td>\n",
       "    </tr>\n",
       "    <tr>\n",
       "      <td>6</td>\n",
       "      <td>sample_2</td>\n",
       "    </tr>\n",
       "    <tr>\n",
       "      <td>7</td>\n",
       "      <td>sampleinput1</td>\n",
       "    </tr>\n",
       "    <tr>\n",
       "      <td>8</td>\n",
       "      <td>sampleinput2</td>\n",
       "    </tr>\n",
       "    <tr>\n",
       "      <td>9</td>\n",
       "      <td>sampleinput_1</td>\n",
       "    </tr>\n",
       "    <tr>\n",
       "      <td>10</td>\n",
       "      <td>sampleinput_2</td>\n",
       "    </tr>\n",
       "    <tr>\n",
       "      <td>11</td>\n",
       "      <td>t1</td>\n",
       "    </tr>\n",
       "  </tbody>\n",
       "</table>\n",
       "</div>"
      ],
      "text/plain": [
       "   Tables_in_my_db\n",
       "0       categories\n",
       "1            pivot\n",
       "2           sample\n",
       "3          sample1\n",
       "4          sample2\n",
       "5         sample_1\n",
       "6         sample_2\n",
       "7     sampleinput1\n",
       "8     sampleinput2\n",
       "9    sampleinput_1\n",
       "10   sampleinput_2\n",
       "11              t1"
      ]
     },
     "execution_count": 6,
     "metadata": {},
     "output_type": "execute_result"
    }
   ],
   "source": [
    "emp_table"
   ]
  },
  {
   "cell_type": "code",
   "execution_count": 7,
   "metadata": {},
   "outputs": [],
   "source": [
    "tables = emp_table['Tables_in_my_db']"
   ]
  },
  {
   "cell_type": "code",
   "execution_count": 8,
   "metadata": {},
   "outputs": [
    {
     "data": {
      "text/plain": [
       "0        categories\n",
       "1             pivot\n",
       "2            sample\n",
       "3           sample1\n",
       "4           sample2\n",
       "5          sample_1\n",
       "6          sample_2\n",
       "7      sampleinput1\n",
       "8      sampleinput2\n",
       "9     sampleinput_1\n",
       "10    sampleinput_2\n",
       "11               t1\n",
       "Name: Tables_in_my_db, dtype: object"
      ]
     },
     "execution_count": 8,
     "metadata": {},
     "output_type": "execute_result"
    }
   ],
   "source": [
    "tables"
   ]
  },
  {
   "cell_type": "code",
   "execution_count": 9,
   "metadata": {},
   "outputs": [
    {
     "name": "stdout",
     "output_type": "stream",
     "text": [
      "categories\n",
      "        Field             Type Null  Key               Default  \\\n",
      "0          id           b'int'   NO  PRI                  None   \n",
      "1        name  b'varchar(255)'   NO                       None   \n",
      "2  created_at     b'timestamp'  YES       b'CURRENT_TIMESTAMP'   \n",
      "\n",
      "               Extra  \n",
      "0     auto_increment  \n",
      "1                     \n",
      "2  DEFAULT_GENERATED   \n",
      "\n",
      "pivot\n",
      "            Field            Type Null Key Default Extra\n",
      "0       System_ID          b'int'   NO        None      \n",
      "1   Property_Name  b'varchar(50)'   NO        None      \n",
      "2  Property_Value  b'varchar(50)'   NO        None       \n",
      "\n",
      "sample\n",
      "       Field          Type Null  Key Default Extra\n",
      "0  System_ID        b'int'   NO  PRI    None      \n",
      "1  Timestamp  b'timestamp'  YES         None      \n",
      "2    Release      b'float'  YES         None       \n",
      "\n",
      "sample1\n",
      "        Field            Type Null Key Default Extra\n",
      "0   System_ID          b'int'   NO        None      \n",
      "1       Event  b'varchar(50)'   NO        None      \n",
      "2  Occurrence          b'int'   NO        None       \n",
      "\n",
      "sample2\n",
      "        Field            Type Null Key Default Extra\n",
      "0   System_ID          b'int'   NO        None      \n",
      "1       Event  b'varchar(50)'   NO        None      \n",
      "2  Occurrence          b'int'   NO        None       \n",
      "\n",
      "sample_1\n",
      "        Field            Type Null Key Default Extra\n",
      "0   System_ID          b'int'   NO        None      \n",
      "1       Event  b'varchar(50)'   NO        None      \n",
      "2  Occurrence          b'int'   NO        None       \n",
      "\n",
      "sample_2\n",
      "        Field            Type Null Key Default Extra\n",
      "0   System_ID          b'int'   NO        None      \n",
      "1       Event  b'varchar(50)'   NO        None      \n",
      "2  Occurrence          b'int'   NO        None       \n",
      "\n",
      "sampleinput1\n",
      "        Field          Type Null  Key Default Extra\n",
      "0   System_ID        b'int'   NO  PRI    None      \n",
      "1       Event  b'timestamp'  YES         None      \n",
      "2  Occurrence        b'int'  YES         None       \n",
      "\n",
      "sampleinput2\n",
      "        Field          Type Null  Key Default Extra\n",
      "0   System_ID        b'int'   NO  PRI    None      \n",
      "1       Event  b'timestamp'  YES         None      \n",
      "2  Occurrence        b'int'  YES         None       \n",
      "\n",
      "sampleinput_1\n",
      "        Field            Type Null  Key Default Extra\n",
      "0   System_ID          b'int'   NO  PRI    None      \n",
      "1       Event  b'varchar(50)'   NO         None      \n",
      "2  Occurrence          b'int'   NO         None       \n",
      "\n",
      "sampleinput_2\n",
      "        Field            Type Null Key Default Extra\n",
      "0   System_ID          b'int'   NO        None      \n",
      "1       Event  b'varchar(50)'   NO        None      \n",
      "2  Occurrence          b'int'   NO        None       \n",
      "\n",
      "t1\n",
      "  Field            Type Null Key Default Extra\n",
      "0     t      b'time(3)'  YES        None      \n",
      "1    dt  b'datetime(6)'  YES        None       \n",
      "\n"
     ]
    }
   ],
   "source": [
    "for table_name in tables:\n",
    "    output = pd.read_sql_query('DESCRIBE {}'.format(table_name), connection)\n",
    "    print(table_name)\n",
    "    print(output, '\\n')"
   ]
  },
  {
   "cell_type": "code",
   "execution_count": 10,
   "metadata": {},
   "outputs": [],
   "source": [
    "sys_id = 'SELECT System_ID, Event, Occurrence\\\n",
    "          FROM sampleinput_2'"
   ]
  },
  {
   "cell_type": "code",
   "execution_count": 11,
   "metadata": {},
   "outputs": [],
   "source": [
    "df = pd.read_sql_query(sys_id, connection)"
   ]
  },
  {
   "cell_type": "code",
   "execution_count": 12,
   "metadata": {},
   "outputs": [
    {
     "data": {
      "text/html": [
       "<div>\n",
       "<style scoped>\n",
       "    .dataframe tbody tr th:only-of-type {\n",
       "        vertical-align: middle;\n",
       "    }\n",
       "\n",
       "    .dataframe tbody tr th {\n",
       "        vertical-align: top;\n",
       "    }\n",
       "\n",
       "    .dataframe thead th {\n",
       "        text-align: right;\n",
       "    }\n",
       "</style>\n",
       "<table border=\"1\" class=\"dataframe\">\n",
       "  <thead>\n",
       "    <tr style=\"text-align: right;\">\n",
       "      <th></th>\n",
       "      <th>System_ID</th>\n",
       "      <th>Event</th>\n",
       "      <th>Occurrence</th>\n",
       "    </tr>\n",
       "  </thead>\n",
       "  <tbody>\n",
       "    <tr>\n",
       "      <td>0</td>\n",
       "      <td>100</td>\n",
       "      <td>Hangup</td>\n",
       "      <td>25</td>\n",
       "    </tr>\n",
       "    <tr>\n",
       "      <td>1</td>\n",
       "      <td>100</td>\n",
       "      <td>Hangup</td>\n",
       "      <td>25</td>\n",
       "    </tr>\n",
       "    <tr>\n",
       "      <td>2</td>\n",
       "      <td>104</td>\n",
       "      <td>Abort</td>\n",
       "      <td>54</td>\n",
       "    </tr>\n",
       "    <tr>\n",
       "      <td>3</td>\n",
       "      <td>102</td>\n",
       "      <td>HW_error</td>\n",
       "      <td>1</td>\n",
       "    </tr>\n",
       "    <tr>\n",
       "      <td>4</td>\n",
       "      <td>101</td>\n",
       "      <td>Hiccup</td>\n",
       "      <td>34</td>\n",
       "    </tr>\n",
       "    <tr>\n",
       "      <td>5</td>\n",
       "      <td>101</td>\n",
       "      <td>Abort</td>\n",
       "      <td>65</td>\n",
       "    </tr>\n",
       "    <tr>\n",
       "      <td>6</td>\n",
       "      <td>100</td>\n",
       "      <td>Crash</td>\n",
       "      <td>26</td>\n",
       "    </tr>\n",
       "    <tr>\n",
       "      <td>7</td>\n",
       "      <td>100</td>\n",
       "      <td>Hangup</td>\n",
       "      <td>25</td>\n",
       "    </tr>\n",
       "    <tr>\n",
       "      <td>8</td>\n",
       "      <td>104</td>\n",
       "      <td>Abort</td>\n",
       "      <td>54</td>\n",
       "    </tr>\n",
       "    <tr>\n",
       "      <td>9</td>\n",
       "      <td>102</td>\n",
       "      <td>HW_error</td>\n",
       "      <td>1</td>\n",
       "    </tr>\n",
       "    <tr>\n",
       "      <td>10</td>\n",
       "      <td>101</td>\n",
       "      <td>Hiccup</td>\n",
       "      <td>34</td>\n",
       "    </tr>\n",
       "    <tr>\n",
       "      <td>11</td>\n",
       "      <td>101</td>\n",
       "      <td>Abort</td>\n",
       "      <td>65</td>\n",
       "    </tr>\n",
       "    <tr>\n",
       "      <td>12</td>\n",
       "      <td>100</td>\n",
       "      <td>Crash</td>\n",
       "      <td>26</td>\n",
       "    </tr>\n",
       "  </tbody>\n",
       "</table>\n",
       "</div>"
      ],
      "text/plain": [
       "    System_ID     Event  Occurrence\n",
       "0         100    Hangup          25\n",
       "1         100    Hangup          25\n",
       "2         104     Abort          54\n",
       "3         102  HW_error           1\n",
       "4         101    Hiccup          34\n",
       "5         101     Abort          65\n",
       "6         100     Crash          26\n",
       "7         100    Hangup          25\n",
       "8         104     Abort          54\n",
       "9         102  HW_error           1\n",
       "10        101    Hiccup          34\n",
       "11        101     Abort          65\n",
       "12        100     Crash          26"
      ]
     },
     "execution_count": 12,
     "metadata": {},
     "output_type": "execute_result"
    }
   ],
   "source": [
    "df"
   ]
  },
  {
   "cell_type": "code",
   "execution_count": 13,
   "metadata": {},
   "outputs": [],
   "source": [
    "sampleinput_2 = 'SELECT * FROM sampleinput_2'"
   ]
  },
  {
   "cell_type": "code",
   "execution_count": 14,
   "metadata": {},
   "outputs": [],
   "source": [
    "df2 = pd.read_sql_query(sampleinput_2, connection)"
   ]
  },
  {
   "cell_type": "code",
   "execution_count": 15,
   "metadata": {},
   "outputs": [
    {
     "data": {
      "text/html": [
       "<div>\n",
       "<style scoped>\n",
       "    .dataframe tbody tr th:only-of-type {\n",
       "        vertical-align: middle;\n",
       "    }\n",
       "\n",
       "    .dataframe tbody tr th {\n",
       "        vertical-align: top;\n",
       "    }\n",
       "\n",
       "    .dataframe thead th {\n",
       "        text-align: right;\n",
       "    }\n",
       "</style>\n",
       "<table border=\"1\" class=\"dataframe\">\n",
       "  <thead>\n",
       "    <tr style=\"text-align: right;\">\n",
       "      <th></th>\n",
       "      <th>System_ID</th>\n",
       "      <th>Event</th>\n",
       "      <th>Occurrence</th>\n",
       "    </tr>\n",
       "  </thead>\n",
       "  <tbody>\n",
       "    <tr>\n",
       "      <td>0</td>\n",
       "      <td>100</td>\n",
       "      <td>Hangup</td>\n",
       "      <td>25</td>\n",
       "    </tr>\n",
       "    <tr>\n",
       "      <td>1</td>\n",
       "      <td>100</td>\n",
       "      <td>Hangup</td>\n",
       "      <td>25</td>\n",
       "    </tr>\n",
       "    <tr>\n",
       "      <td>2</td>\n",
       "      <td>104</td>\n",
       "      <td>Abort</td>\n",
       "      <td>54</td>\n",
       "    </tr>\n",
       "    <tr>\n",
       "      <td>3</td>\n",
       "      <td>102</td>\n",
       "      <td>HW_error</td>\n",
       "      <td>1</td>\n",
       "    </tr>\n",
       "    <tr>\n",
       "      <td>4</td>\n",
       "      <td>101</td>\n",
       "      <td>Hiccup</td>\n",
       "      <td>34</td>\n",
       "    </tr>\n",
       "    <tr>\n",
       "      <td>5</td>\n",
       "      <td>101</td>\n",
       "      <td>Abort</td>\n",
       "      <td>65</td>\n",
       "    </tr>\n",
       "    <tr>\n",
       "      <td>6</td>\n",
       "      <td>100</td>\n",
       "      <td>Crash</td>\n",
       "      <td>26</td>\n",
       "    </tr>\n",
       "    <tr>\n",
       "      <td>7</td>\n",
       "      <td>100</td>\n",
       "      <td>Hangup</td>\n",
       "      <td>25</td>\n",
       "    </tr>\n",
       "    <tr>\n",
       "      <td>8</td>\n",
       "      <td>104</td>\n",
       "      <td>Abort</td>\n",
       "      <td>54</td>\n",
       "    </tr>\n",
       "    <tr>\n",
       "      <td>9</td>\n",
       "      <td>102</td>\n",
       "      <td>HW_error</td>\n",
       "      <td>1</td>\n",
       "    </tr>\n",
       "    <tr>\n",
       "      <td>10</td>\n",
       "      <td>101</td>\n",
       "      <td>Hiccup</td>\n",
       "      <td>34</td>\n",
       "    </tr>\n",
       "    <tr>\n",
       "      <td>11</td>\n",
       "      <td>101</td>\n",
       "      <td>Abort</td>\n",
       "      <td>65</td>\n",
       "    </tr>\n",
       "    <tr>\n",
       "      <td>12</td>\n",
       "      <td>100</td>\n",
       "      <td>Crash</td>\n",
       "      <td>26</td>\n",
       "    </tr>\n",
       "  </tbody>\n",
       "</table>\n",
       "</div>"
      ],
      "text/plain": [
       "    System_ID     Event  Occurrence\n",
       "0         100    Hangup          25\n",
       "1         100    Hangup          25\n",
       "2         104     Abort          54\n",
       "3         102  HW_error           1\n",
       "4         101    Hiccup          34\n",
       "5         101     Abort          65\n",
       "6         100     Crash          26\n",
       "7         100    Hangup          25\n",
       "8         104     Abort          54\n",
       "9         102  HW_error           1\n",
       "10        101    Hiccup          34\n",
       "11        101     Abort          65\n",
       "12        100     Crash          26"
      ]
     },
     "execution_count": 15,
     "metadata": {},
     "output_type": "execute_result"
    }
   ],
   "source": [
    "df2"
   ]
  },
  {
   "cell_type": "code",
   "execution_count": 16,
   "metadata": {},
   "outputs": [
    {
     "data": {
      "text/plain": [
       "Event     Occurrence\n",
       "Abort     54            2\n",
       "          65            2\n",
       "Crash     26            2\n",
       "HW_error  1             2\n",
       "Hangup    25            3\n",
       "Hiccup    34            2\n",
       "Name: System_ID, dtype: int64"
      ]
     },
     "execution_count": 16,
     "metadata": {},
     "output_type": "execute_result"
    }
   ],
   "source": [
    "df2.groupby(['Event','Occurrence'])['System_ID'].count()"
   ]
  },
  {
   "cell_type": "code",
   "execution_count": null,
   "metadata": {},
   "outputs": [],
   "source": []
  },
  {
   "cell_type": "code",
   "execution_count": null,
   "metadata": {},
   "outputs": [],
   "source": []
  },
  {
   "cell_type": "code",
   "execution_count": null,
   "metadata": {},
   "outputs": [],
   "source": []
  },
  {
   "cell_type": "code",
   "execution_count": null,
   "metadata": {},
   "outputs": [],
   "source": []
  },
  {
   "cell_type": "code",
   "execution_count": null,
   "metadata": {},
   "outputs": [],
   "source": []
  },
  {
   "cell_type": "code",
   "execution_count": null,
   "metadata": {},
   "outputs": [],
   "source": []
  }
 ],
 "metadata": {
  "kernelspec": {
   "display_name": "Python 3",
   "language": "python",
   "name": "python3"
  },
  "language_info": {
   "codemirror_mode": {
    "name": "ipython",
    "version": 3
   },
   "file_extension": ".py",
   "mimetype": "text/x-python",
   "name": "python",
   "nbconvert_exporter": "python",
   "pygments_lexer": "ipython3",
   "version": "3.7.4"
  }
 },
 "nbformat": 4,
 "nbformat_minor": 2
}
