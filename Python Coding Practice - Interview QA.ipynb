{
 "cells": [
  {
   "cell_type": "markdown",
   "metadata": {},
   "source": [
    "# 1 -  Common Letters"
   ]
  },
  {
   "cell_type": "code",
   "execution_count": 4,
   "metadata": {},
   "outputs": [],
   "source": [
    "import sys\n",
    "import os\n",
    "import random"
   ]
  },
  {
   "cell_type": "code",
   "execution_count": 5,
   "metadata": {},
   "outputs": [],
   "source": [
    "def common_letters():\n",
    "    str1 = input('Enter the str1:-->')\n",
    "    str2 = input('Enter the str2:-->')\n",
    "    \n",
    "    s1 = set(str1)\n",
    "    s2 = set(str2)\n",
    "    print(s1)\n",
    "    print(s2)\n",
    "    lst = s1 & s2\n",
    "    print(lst)"
   ]
  },
  {
   "cell_type": "code",
   "execution_count": 8,
   "metadata": {},
   "outputs": [
    {
     "name": "stdout",
     "output_type": "stream",
     "text": [
      "Enter the str1:-->manishhhh\n",
      "Enter the str2:-->ishaaannnn\n",
      "{'n', 'h', 'm', 's', 'a', 'i'}\n",
      "{'n', 'h', 's', 'a', 'i'}\n",
      "{'n', 'h', 's', 'a', 'i'}\n"
     ]
    }
   ],
   "source": [
    "common_letters()"
   ]
  },
  {
   "cell_type": "code",
   "execution_count": 213,
   "metadata": {},
   "outputs": [],
   "source": [
    "## 2nd Method using Append"
   ]
  },
  {
   "cell_type": "code",
   "execution_count": 6,
   "metadata": {},
   "outputs": [
    {
     "name": "stdout",
     "output_type": "stream",
     "text": [
      "[20, 20, 30, 40, 50, 50] \n",
      " Common Numbers from the Lists are --> 6\n"
     ]
    }
   ],
   "source": [
    "def common(l1,l2):\n",
    "    l3 = []\n",
    "    count = 0\n",
    "    for i in l1:\n",
    "        for j in l2:\n",
    "            if (i == j):\n",
    "                l3.append(i)\n",
    "                count = count+1\n",
    "    print(l3,'\\n','Common Numbers from the Lists are -->', count)\n",
    "    \n",
    "    \n",
    "l1 = [20,20,30,40,50,50]\n",
    "l2 = [20,30,40,50,60,70]\n",
    "\n",
    "common(l1,l2)"
   ]
  },
  {
   "cell_type": "code",
   "execution_count": 218,
   "metadata": {},
   "outputs": [],
   "source": [
    "##3rd Method from a dict"
   ]
  },
  {
   "cell_type": "code",
   "execution_count": 9,
   "metadata": {},
   "outputs": [
    {
     "name": "stdout",
     "output_type": "stream",
     "text": [
      "1  2  4  6   Common elements are -->  4\n"
     ]
    }
   ],
   "source": [
    "def common_elements(list1,list2):\n",
    "    dict1={}\n",
    "    for element in list2:\n",
    "        dict1[element]=1        \n",
    "    count = 0\n",
    "    for i in list1:\n",
    "        if dict1.get(i)!=None:\n",
    "            print(i, end = '  ')\n",
    "            count = count+1\n",
    "    print(' Common elements are --> ', count)\n",
    "\n",
    "    \n",
    "l1 = [1,2,3,4,5,6]\n",
    "l2 = [2,4,6,1,8,10]\n",
    "common_elements(l1,l2)"
   ]
  },
  {
   "cell_type": "markdown",
   "metadata": {},
   "source": [
    "# 2 - Frequency of words in a string"
   ]
  },
  {
   "cell_type": "code",
   "execution_count": 2,
   "metadata": {},
   "outputs": [
    {
     "name": "stdout",
     "output_type": "stream",
     "text": [
      "Enter the string:---> aq sc\n",
      "{'aq': 1, 'sc': 1}\n"
     ]
    }
   ],
   "source": [
    "def freq_words():\n",
    "    str_1 = input(\"Enter the string:---> \")\n",
    "    li = str_1.lower().split()\n",
    "    d = {}\n",
    "    \n",
    "    for i in li:\n",
    "        if i not in d.keys():\n",
    "            d[i] = 0\n",
    "            d[i] = d[i] + 1\n",
    "    print(d)\n",
    "    \n",
    "freq_words()"
   ]
  },
  {
   "cell_type": "markdown",
   "metadata": {},
   "source": [
    "# 2nd Method"
   ]
  },
  {
   "cell_type": "code",
   "execution_count": 37,
   "metadata": {},
   "outputs": [
    {
     "name": "stdout",
     "output_type": "stream",
     "text": [
      "Enter the string:-->PRASHANT SINGH THE BIKER\n",
      "{'PRASHANT': 1}\n",
      "{'PRASHANT': 1, 'SINGH': 1}\n",
      "{'PRASHANT': 1, 'SINGH': 1, 'THE': 1}\n",
      "{'PRASHANT': 1, 'SINGH': 1, 'THE': 1, 'BIKER': 1}\n"
     ]
    }
   ],
   "source": [
    "def freq_words():\n",
    "    str_1 = input(\"Enter the string:-->\")\n",
    "    li = str_1.split()\n",
    "    d = {}\n",
    "    \n",
    "    for i in li:\n",
    "        d[i] = d.get(i,0) + 1\n",
    "        print(d)\n",
    "        \n",
    "    \n",
    "freq_words()"
   ]
  },
  {
   "cell_type": "markdown",
   "metadata": {},
   "source": [
    "# 3 - Convert List to Dict"
   ]
  },
  {
   "cell_type": "code",
   "execution_count": 4,
   "metadata": {},
   "outputs": [
    {
     "name": "stdout",
     "output_type": "stream",
     "text": [
      "{1: 'One', 2: 'TWO', 3: 'THREEE'}\n"
     ]
    }
   ],
   "source": [
    "def list_to_dict():\n",
    "    keys = [1, 2, 3,4,5,6]\n",
    "    values = ['One', 'TWO', 'THREEE']\n",
    "    res = dict(zip(keys,values))\n",
    "\n",
    "    print(res)\n",
    "\n",
    "\n",
    "list_to_dict()"
   ]
  },
  {
   "cell_type": "markdown",
   "metadata": {},
   "source": [
    "# 4 - Convert Dict to Tuple"
   ]
  },
  {
   "cell_type": "code",
   "execution_count": 1,
   "metadata": {},
   "outputs": [
    {
     "name": "stdout",
     "output_type": "stream",
     "text": [
      "(1, 'One') (2, 'Two') (3, 'Three') "
     ]
    }
   ],
   "source": [
    "def dict_to_Tuple():\n",
    "    x1 = {1: 'One', 2: 'Two', 3: 'Three'}\n",
    "    x2 = {'One': 1, 'Two':2, 'Three':3}\n",
    "    for i in x1.items():\n",
    "        print(i, end = ' ')\n",
    "        \n",
    "dict_to_Tuple()"
   ]
  },
  {
   "cell_type": "markdown",
   "metadata": {},
   "source": [
    "# 5 - Find the Missing Number"
   ]
  },
  {
   "cell_type": "code",
   "execution_count": 2,
   "metadata": {},
   "outputs": [
    {
     "name": "stdout",
     "output_type": "stream",
     "text": [
      "5\n"
     ]
    }
   ],
   "source": [
    "def find_missing_num(a):\n",
    "    n = a[-1]\n",
    "    sum1 = 0\n",
    "    total = n*(n+1)//2\n",
    "    sum1 = sum(a)\n",
    "    print(total - sum1)\n",
    "\n",
    "a = [1,2,3,4,6]\n",
    "find_missing_num(a)"
   ]
  },
  {
   "cell_type": "markdown",
   "metadata": {},
   "source": [
    "# 6 - Find the pairs for the Sum in a List"
   ]
  },
  {
   "cell_type": "code",
   "execution_count": 15,
   "metadata": {},
   "outputs": [
    {
     "name": "stdout",
     "output_type": "stream",
     "text": [
      "Values of Paired Sum are --> 0 & 6\n",
      "Values of Paired Sum are --> 1 & 5\n",
      "Values of Paired Sum are --> 2 & 4\n",
      "Values of Paired Sum are --> 3 & 3\n"
     ]
    }
   ],
   "source": [
    "def two_sum(arr,sum):\n",
    "    arr.sort()\n",
    "    left = 0\n",
    "    right = len(arr)-1\n",
    "    while(left<=right):\n",
    "        if (arr[left]+arr[right]>sum):\n",
    "            right=right-1\n",
    "        elif(arr[left]+arr[right]<sum):\n",
    "            lef=left+1\n",
    "        elif(arr[left]+arr[right]==sum):\n",
    "            print('Values of Paired Sum are -->', arr[left], \"&\", arr[right])\n",
    "            right=right-1\n",
    "            left=left+1\n",
    "            \n",
    "arr = [2,4,5,6,3,0,4,1]\n",
    "sum = 6\n",
    "two_sum(arr,sum)"
   ]
  },
  {
   "cell_type": "markdown",
   "metadata": {},
   "source": [
    "### 2nd Method"
   ]
  },
  {
   "cell_type": "code",
   "execution_count": 109,
   "metadata": {},
   "outputs": [
    {
     "name": "stdout",
     "output_type": "stream",
     "text": [
      "Pair with given sum 6 is (4,2)\n",
      "Pair with given sum 6 is (0,6)\n",
      "Pair with given sum 6 is (4,2)\n",
      "Pair with given sum 6 is (1,5)\n"
     ]
    }
   ],
   "source": [
    "def printPairs(arr, arr_size, sum):\n",
    "     \n",
    "    # Create an empty hash set\n",
    "    s = set()\n",
    "     \n",
    "    for i in range(0, arr_size):\n",
    "        temp = sum-arr[i]\n",
    "        if (temp in s):\n",
    "            print(\"Pair with given sum \"+ str(sum) +\n",
    "       \" is (\" + str(arr[i]) + \",\" + str(temp) + \")\")\n",
    "        s.add(arr[i])\n",
    " \n",
    "# driver code\n",
    "A = [2,4,5,6,3,0,4,1]\n",
    "n = 6\n",
    "printPairs(A, len(A), n)"
   ]
  },
  {
   "cell_type": "markdown",
   "metadata": {},
   "source": [
    "# 7 - Minimum difference elements from a List"
   ]
  },
  {
   "cell_type": "code",
   "execution_count": 34,
   "metadata": {},
   "outputs": [],
   "source": [
    "def minimum_diff(arr):\n",
    "    arr = sorted(arr)\n",
    "    size = len(arr)\n",
    "    min_diff = 9999*999\n",
    "    for i in range(0, size-1):\n",
    "        if (arr[i+1] - arr[i] < min_diff):\n",
    "            min_diff = arr[i+1] - arr[i]\n",
    "    return min_diff"
   ]
  },
  {
   "cell_type": "code",
   "execution_count": 35,
   "metadata": {},
   "outputs": [
    {
     "data": {
      "text/plain": [
       "3"
      ]
     },
     "execution_count": 35,
     "metadata": {},
     "output_type": "execute_result"
    }
   ],
   "source": [
    "arr = [1,24,6,9,15,20]\n",
    "minimum_diff(arr)"
   ]
  },
  {
   "cell_type": "markdown",
   "metadata": {},
   "source": [
    "# 8 - Maximum difference elements from a List"
   ]
  },
  {
   "cell_type": "code",
   "execution_count": 51,
   "metadata": {},
   "outputs": [],
   "source": [
    "def maximum_dif(arr1):\n",
    "    arr1 = sorted(arr1)\n",
    "    size1 = len(arr1)\n",
    "    max_diff = -999*999\n",
    "    \n",
    "    for i in range(0, size1-1):\n",
    "        if (arr1[i+1] -arr1[i] > max_diff):\n",
    "            max_diff = arr1[i+1] - arr1[i]\n",
    "    return max_diff"
   ]
  },
  {
   "cell_type": "code",
   "execution_count": 52,
   "metadata": {},
   "outputs": [
    {
     "data": {
      "text/plain": [
       "15"
      ]
     },
     "execution_count": 52,
     "metadata": {},
     "output_type": "execute_result"
    }
   ],
   "source": [
    "arr1 = [20,50,12,25,40]\n",
    "maximum_dif(arr1)"
   ]
  },
  {
   "cell_type": "markdown",
   "metadata": {},
   "source": [
    "# 9 - Length of Last word"
   ]
  },
  {
   "cell_type": "code",
   "execution_count": 25,
   "metadata": {},
   "outputs": [
    {
     "data": {
      "text/plain": [
       "6"
      ]
     },
     "execution_count": 25,
     "metadata": {},
     "output_type": "execute_result"
    }
   ],
   "source": [
    "def len_last_word(A):\n",
    "    arr = A.lower().split(' ')\n",
    "    size = len(arr)\n",
    "    \n",
    "    if(size ==1):\n",
    "        return len(A)\n",
    "    \n",
    "    last_word = arr[-1]\n",
    "    print(last_word)\n",
    "\n",
    "A = 'people'\n",
    "len_last_word(A)"
   ]
  },
  {
   "cell_type": "markdown",
   "metadata": {},
   "source": [
    "# 10 - Count the no of strings"
   ]
  },
  {
   "cell_type": "code",
   "execution_count": 2,
   "metadata": {},
   "outputs": [
    {
     "name": "stdout",
     "output_type": "stream",
     "text": [
      "11 "
     ]
    }
   ],
   "source": [
    "def count_len(X):\n",
    "    count = 0\n",
    "    for a in X:\n",
    "        count=count+1\n",
    "    print(count, end=' ')\n",
    "    \n",
    "    \n",
    "X = 'HELLLOOOwww'\n",
    "count_len(X)"
   ]
  },
  {
   "cell_type": "code",
   "execution_count": 57,
   "metadata": {},
   "outputs": [
    {
     "name": "stdout",
     "output_type": "stream",
     "text": [
      "12\n"
     ]
    }
   ],
   "source": [
    "B = ' hello world'\n",
    "\n",
    "count = 0\n",
    "for z in B:\n",
    "    count+=1\n",
    "print(count)"
   ]
  },
  {
   "cell_type": "markdown",
   "metadata": {},
   "source": [
    "# 11 - Find the index of Groups of strings that are ANAGRAMS"
   ]
  },
  {
   "cell_type": "code",
   "execution_count": 4,
   "metadata": {},
   "outputs": [
    {
     "data": {
      "text/plain": [
       "{'ACT': [1, 2], 'IKM': [3, 4], 'DGO': [5, 6]}"
      ]
     },
     "execution_count": 4,
     "metadata": {},
     "output_type": "execute_result"
    }
   ],
   "source": [
    "def anagrams(A):\n",
    "    if(A==None):\n",
    "        return \n",
    "    else:\n",
    "        dict = {}\n",
    "        for i in range(len(A)):\n",
    "            word = ''.join(sorted(A[i]))\n",
    "            if word not in dict:\n",
    "                dict[word] = [i+1]\n",
    "            else:\n",
    "                dict[word].append(i+1)\n",
    "        return dict\n",
    "    \n",
    "A = ['CAT', 'TAC', 'IKM', 'KIM', 'DOG', 'GOD']\n",
    "anagrams(A)"
   ]
  },
  {
   "cell_type": "markdown",
   "metadata": {},
   "source": [
    "### 12 - Remove Duplicates In Python"
   ]
  },
  {
   "cell_type": "markdown",
   "metadata": {},
   "source": [
    "## 1st method - SET"
   ]
  },
  {
   "cell_type": "code",
   "execution_count": 65,
   "metadata": {},
   "outputs": [
    {
     "data": {
      "text/plain": [
       "['DOG', 'CAT']"
      ]
     },
     "execution_count": 65,
     "metadata": {},
     "output_type": "execute_result"
    }
   ],
   "source": [
    "def rem_dup(s1):\n",
    "    return list(set(s1))\n",
    "\n",
    "s1 = ['CAT', 'CAT', 'DOG', 'DOG']\n",
    "rem_dup(s1)\n",
    "    "
   ]
  },
  {
   "cell_type": "markdown",
   "metadata": {},
   "source": [
    "## 2nd method using For Loop & append func"
   ]
  },
  {
   "cell_type": "code",
   "execution_count": 5,
   "metadata": {},
   "outputs": [],
   "source": [
    "arr1 = [1, 1, 3, 4, 5, 5, 7, 20, 30, 40, 50,60,60, 20]\n",
    "arr2 = []\n",
    "def rem_dupl(arr2):\n",
    "    for i in arr1:\n",
    "        if i not in arr2:\n",
    "            arr2.append(i)\n",
    "    return arr2"
   ]
  },
  {
   "cell_type": "code",
   "execution_count": 6,
   "metadata": {},
   "outputs": [
    {
     "data": {
      "text/plain": [
       "[1, 3, 4, 5, 7, 20, 30, 40, 50, 60]"
      ]
     },
     "execution_count": 6,
     "metadata": {},
     "output_type": "execute_result"
    }
   ],
   "source": [
    "rem_dupl(arr2)"
   ]
  },
  {
   "cell_type": "markdown",
   "metadata": {},
   "source": [
    "## 3rd - Using Lambda Function"
   ]
  },
  {
   "cell_type": "code",
   "execution_count": 164,
   "metadata": {},
   "outputs": [],
   "source": [
    "remdup = lambda a: set(a)\n",
    "\n",
    "a = ['cat', 1,1,2,3, 'dog', 'cat', 'dog']\n"
   ]
  },
  {
   "cell_type": "code",
   "execution_count": 165,
   "metadata": {},
   "outputs": [
    {
     "data": {
      "text/plain": [
       "[1, 2, 3, 'cat', 'dog']"
      ]
     },
     "execution_count": 165,
     "metadata": {},
     "output_type": "execute_result"
    }
   ],
   "source": [
    "rem_dup(a)"
   ]
  },
  {
   "cell_type": "markdown",
   "metadata": {},
   "source": [
    "# 4th Method - using loop and SET() for a Dict"
   ]
  },
  {
   "cell_type": "code",
   "execution_count": 28,
   "metadata": {},
   "outputs": [
    {
     "name": "stdout",
     "output_type": "stream",
     "text": [
      "{'Grp-1': {1, 2, 4}, 'Grp-2': {'Cat', 'Dog'}}\n"
     ]
    }
   ],
   "source": [
    "d1 = {'Grp-1' : [1,1,2,2,4,4,4,4], 'Grp-2':['Cat','Cat','Dog','Dog']}\n",
    "d2 = {}\n",
    "\n",
    "for key, value in d1.items():\n",
    "    d2[key] = set(value)\n",
    "    \n",
    "print(d2)"
   ]
  },
  {
   "cell_type": "markdown",
   "metadata": {},
   "source": [
    "## 5th Method - Symmetric difference"
   ]
  },
  {
   "cell_type": "code",
   "execution_count": 177,
   "metadata": {},
   "outputs": [
    {
     "name": "stdout",
     "output_type": "stream",
     "text": [
      "{20, 10}\n"
     ]
    }
   ],
   "source": [
    "x1 = {1,5,1,5,2,6,2,6}\n",
    "x2 = {1,2,5,6,1,2,5,6,10,20,10,20}\n",
    "dup = x1.symmetric_difference(x2)\n",
    "print(dup)"
   ]
  },
  {
   "cell_type": "code",
   "execution_count": 30,
   "metadata": {},
   "outputs": [
    {
     "name": "stdout",
     "output_type": "stream",
     "text": [
      "{1, 2, 5, 6}\n"
     ]
    }
   ],
   "source": [
    "x1 = {1,5,1,5,2,6,2,6}\n",
    "x2 = {1,2,5,6,1,2,5,6,10,20,10,20}\n",
    "dup = x1.intersection(x2)\n",
    "print(dup)"
   ]
  },
  {
   "cell_type": "code",
   "execution_count": 181,
   "metadata": {},
   "outputs": [
    {
     "name": "stdout",
     "output_type": "stream",
     "text": [
      "{1, 2, 5, 6, 10, 20}\n"
     ]
    }
   ],
   "source": [
    "x1 = {1,5,1,5,2,6,2,6}\n",
    "x2 = {1,2,5,6,1,2,5,6,10,20,10,20}\n",
    "dup = x1.union(x2)\n",
    "print(dup)"
   ]
  },
  {
   "cell_type": "markdown",
   "metadata": {},
   "source": [
    "# 13 - Find Maximum number from a list"
   ]
  },
  {
   "cell_type": "code",
   "execution_count": 190,
   "metadata": {},
   "outputs": [
    {
     "name": "stdout",
     "output_type": "stream",
     "text": [
      "220\n"
     ]
    }
   ],
   "source": [
    "def maxnum(arr):\n",
    "    max1 = arr[0]\n",
    "    size = len(arr)\n",
    "    for i in range(0, size):\n",
    "        if (arr[i] > max1):\n",
    "            max1 = arr[i]\n",
    "    return max1\n",
    "arr = [20,30,12,10,50,121,220]\n",
    "print(maxnum(arr))"
   ]
  },
  {
   "cell_type": "markdown",
   "metadata": {},
   "source": [
    "# 14 - Find Minimum number from a list"
   ]
  },
  {
   "cell_type": "code",
   "execution_count": 29,
   "metadata": {},
   "outputs": [
    {
     "name": "stdout",
     "output_type": "stream",
     "text": [
      "10\n"
     ]
    }
   ],
   "source": [
    "def Minimum(arr):\n",
    "    Min1 = arr[0]\n",
    "    size = len(arr)\n",
    "    for i in range(0, size):\n",
    "        if (arr[i] < Min1):\n",
    "            Min1 = arr[i]\n",
    "    return Min1\n",
    "arr = [20,30,12,10,50,121,220]\n",
    "print(Minimum(arr))"
   ]
  },
  {
   "cell_type": "markdown",
   "metadata": {},
   "source": [
    "# 15 - Find the FIRST NON-REPEATING CHARACTER IN A STRING"
   ]
  },
  {
   "cell_type": "code",
   "execution_count": 14,
   "metadata": {},
   "outputs": [
    {
     "name": "stdout",
     "output_type": "stream",
     "text": [
      "m 1\n"
     ]
    }
   ],
   "source": [
    "def non_rep_char(str1):\n",
    "    dict = {}\n",
    "    size = len(str1)\n",
    "    for i in range(0,size):\n",
    "        key = str1[i]\n",
    "        key.lower().split()\n",
    "        if key not in dict:\n",
    "            dict[key] = 1\n",
    "        else:\n",
    "            dict[key] = dict[key]+1\n",
    "    for key,value in dict.items():\n",
    "        if(value==1):\n",
    "            print(key,value)\n",
    "            break\n",
    "    else:\n",
    "        print('No Matches Found')\n",
    "\n",
    "str1 = 'ddaassm'\n",
    "non_rep_char(str1)\n",
    "\n",
    "    "
   ]
  },
  {
   "cell_type": "code",
   "execution_count": 198,
   "metadata": {},
   "outputs": [],
   "source": [
    "## Finding the index for non-repeating character"
   ]
  },
  {
   "cell_type": "code",
   "execution_count": 19,
   "metadata": {},
   "outputs": [
    {
     "data": {
      "text/plain": [
       "('R', 2)"
      ]
     },
     "execution_count": 19,
     "metadata": {},
     "output_type": "execute_result"
    }
   ],
   "source": [
    "def non_rep_char(str1):\n",
    "    dict = {}\n",
    "    size = len(str1)\n",
    "    for i in range(0,size):\n",
    "        key = str1[i]\n",
    "        if key not in dict:\n",
    "            dict[key] = 1\n",
    "        else:\n",
    "            dict[key] = dict[key]+1\n",
    "            \n",
    "    counter=0\n",
    "    for index in range(0,len(str1)): \n",
    "        if(dict[str1[index]]==1):\n",
    "            return str1[index],counter\n",
    "        counter = counter+1\n",
    "    else:\n",
    "        print('No Mtaches found!!!!')\n",
    "        \n",
    "\n",
    "str1 = 'DDRWWEE'\n",
    "non_rep_char(str1)"
   ]
  },
  {
   "cell_type": "markdown",
   "metadata": {},
   "source": [
    "# 16 - Find the Prime No "
   ]
  },
  {
   "cell_type": "code",
   "execution_count": 4,
   "metadata": {},
   "outputs": [
    {
     "name": "stdout",
     "output_type": "stream",
     "text": [
      "False\n"
     ]
    }
   ],
   "source": [
    "def is_Prim(num):\n",
    "    if(num>1):\n",
    "        for i in range(2,num):\n",
    "            if(num%i==0):\n",
    "                return False\n",
    "            return True\n",
    "A1 = is_Prim(22)\n",
    "print(A1)"
   ]
  },
  {
   "cell_type": "markdown",
   "metadata": {},
   "source": [
    "## 2nd Method for find the Prime Numbers from a numbers"
   ]
  },
  {
   "cell_type": "code",
   "execution_count": 3,
   "metadata": {},
   "outputs": [
    {
     "name": "stdout",
     "output_type": "stream",
     "text": [
      "Prime --> 3\n",
      "[5, 7, 9, 11, 13, 15, 17, 19]\n"
     ]
    }
   ],
   "source": [
    "def IsPrime(num):\n",
    "    for i in range(2,num):\n",
    "        if ( num%i ) == 0:\n",
    "            return False\n",
    "        return True\n",
    "    \n",
    "def Gen_Prime(maxnum):\n",
    "    for num1 in range(2,maxnum):\n",
    "        if IsPrime(num1):\n",
    "            yield num1\n",
    "            \n",
    "prime = Gen_Prime(20)\n",
    "print('Prime -->', next(prime))\n",
    "AllPrimeNo = [x for x in prime]\n",
    "print(AllPrimeNo)"
   ]
  },
  {
   "cell_type": "markdown",
   "metadata": {},
   "source": [
    "# 17 - Reverse the list "
   ]
  },
  {
   "cell_type": "markdown",
   "metadata": {},
   "source": [
    "## 1st method -  using reverse func"
   ]
  },
  {
   "cell_type": "code",
   "execution_count": 265,
   "metadata": {},
   "outputs": [
    {
     "name": "stdout",
     "output_type": "stream",
     "text": [
      "[5, 4, 3, 2, 1]\n"
     ]
    }
   ],
   "source": [
    "lst = [1,2,3,4,5]\n",
    "lst.reverse()\n",
    "print(lst)"
   ]
  },
  {
   "cell_type": "markdown",
   "metadata": {},
   "source": [
    "## 2nd Method - Using Reversed func"
   ]
  },
  {
   "cell_type": "code",
   "execution_count": 47,
   "metadata": {},
   "outputs": [
    {
     "name": "stdout",
     "output_type": "stream",
     "text": [
      "[5, 4, 3, 2, 1]\n"
     ]
    }
   ],
   "source": [
    "lst1 = [1,2,3,4,5]\n",
    "lst2 = list(reversed(lst1))\n",
    "print(lst2)"
   ]
  },
  {
   "cell_type": "markdown",
   "metadata": {},
   "source": [
    "## 3rd Method - Using Slicing func"
   ]
  },
  {
   "cell_type": "code",
   "execution_count": 269,
   "metadata": {},
   "outputs": [
    {
     "name": "stdout",
     "output_type": "stream",
     "text": [
      "[6, 5, 3, 2, 1]\n"
     ]
    }
   ],
   "source": [
    "lst = [1,2,3,5,6]\n",
    "lst3 = lst[::-1] \n",
    "print(lst3)"
   ]
  },
  {
   "cell_type": "markdown",
   "metadata": {},
   "source": [
    "## 4th Method - Using Append"
   ]
  },
  {
   "cell_type": "code",
   "execution_count": 30,
   "metadata": {},
   "outputs": [
    {
     "name": "stdout",
     "output_type": "stream",
     "text": [
      "[100, 45, 2, 11, 6, 2, 9, 7, 4]\n"
     ]
    }
   ],
   "source": [
    "lst1 = [4,7,9,2,6,11,2,45,100]\n",
    "lst2 = []\n",
    "for i in range(len(lst1)-1,-1,-1):\n",
    "    lst2.append(lst1[i])\n",
    "print(lst2)"
   ]
  },
  {
   "cell_type": "code",
   "execution_count": 12,
   "metadata": {},
   "outputs": [
    {
     "name": "stdout",
     "output_type": "stream",
     "text": [
      "0 2 4 6 8 10 12 14 16 18 20 "
     ]
    }
   ],
   "source": [
    "## While Loop@@@\n",
    "i = 0\n",
    "\n",
    "while i<=20:\n",
    "    if i%2==0:\n",
    "        print(i, end = ' ')\n",
    "    elif i==10:\n",
    "        break\n",
    "    else:\n",
    "        i+=1\n",
    "        continue\n",
    "    i+=1"
   ]
  },
  {
   "cell_type": "markdown",
   "metadata": {},
   "source": [
    "## Ericcson Python q-a ## Find the elements from a list of strings"
   ]
  },
  {
   "cell_type": "code",
   "execution_count": 36,
   "metadata": {},
   "outputs": [
    {
     "name": "stdout",
     "output_type": "stream",
     "text": [
      "The original list is : ['im a fox', 'im a box', ' im a pacman']\n",
      "All strings with given substring are : ['im a box']\n"
     ]
    }
   ],
   "source": [
    "import re\n",
    "# initializing list \n",
    "l1 = ['im a fox', 'im a box', ' im a pacman']\n",
    "  \n",
    "# printing original list \n",
    "print (\"The original list is : \"  + str(l1))\n",
    "  \n",
    "# initializing substring\n",
    "subs = 'box'\n",
    "  \n",
    "# using re + search()\n",
    "# to get string with substring \n",
    "res = [x for x in l1 if re.search(subs,x)]\n",
    "  \n",
    "# printing result \n",
    "print (\"All strings with given substring are : \"  + str(res))"
   ]
  },
  {
   "cell_type": "code",
   "execution_count": 1,
   "metadata": {},
   "outputs": [
    {
     "name": "stdout",
     "output_type": "stream",
     "text": [
      "original list with given strings['football', 'foosball', 'foomball']\n",
      "string with imputer substrings are -->['football', 'foosball', 'foomball']\n"
     ]
    }
   ],
   "source": [
    "import re\n",
    "lstr = ['football', 'foosball','foomball']\n",
    "print('original list with given strings' +str(lstr))\n",
    "substr = 'ball'\n",
    "res2 = [x for x in lstr if re.search(substr,x)]\n",
    "print('string with imputer substrings are -->' +str(res2))"
   ]
  },
  {
   "cell_type": "code",
   "execution_count": 3,
   "metadata": {},
   "outputs": [
    {
     "name": "stdout",
     "output_type": "stream",
     "text": [
      "enter the  number : 10\n",
      "its not a Prime number\n"
     ]
    }
   ],
   "source": [
    "num = int(input('enter the  number : '))\n",
    "\n",
    "if num >1:\n",
    "    for i in range(2,num):\n",
    "        if num%i==0:\n",
    "            print('its not a Prime number')\n",
    "            break\n",
    "    else:\n",
    "        print('its a  Prime number')\n",
    "else:\n",
    "    print('its a  prime number')"
   ]
  },
  {
   "cell_type": "code",
   "execution_count": 5,
   "metadata": {},
   "outputs": [
    {
     "data": {
      "text/plain": [
       "[19, 18, 17, 16, 15, 14, 13, 12, 11, 10, 9, 8, 7, 6, 5, 4, 3, 2, 1]"
      ]
     },
     "execution_count": 5,
     "metadata": {},
     "output_type": "execute_result"
    }
   ],
   "source": [
    "lst = list(range(1,20))\n",
    "lst_rv = list(reversed(lst))\n",
    "lst_rv"
   ]
  },
  {
   "cell_type": "code",
   "execution_count": 3,
   "metadata": {},
   "outputs": [],
   "source": [
    "def print_prime():\n",
    "    num = int(input('enter the  number : '))\n",
    "    if num >1:\n",
    "        for i in range(2,num):\n",
    "            if num%i==0:\n",
    "                print('its not a Prime number')\n",
    "                break\n",
    "        else:\n",
    "            print('its a  Prime number')"
   ]
  },
  {
   "cell_type": "code",
   "execution_count": 5,
   "metadata": {},
   "outputs": [
    {
     "name": "stdout",
     "output_type": "stream",
     "text": [
      "enter the  number : 3\n",
      "its a  Prime number\n"
     ]
    }
   ],
   "source": [
    "print_prime()"
   ]
  },
  {
   "cell_type": "code",
   "execution_count": null,
   "metadata": {},
   "outputs": [],
   "source": []
  }
 ],
 "metadata": {
  "kernelspec": {
   "display_name": "Python 3",
   "language": "python",
   "name": "python3"
  },
  "language_info": {
   "codemirror_mode": {
    "name": "ipython",
    "version": 3
   },
   "file_extension": ".py",
   "mimetype": "text/x-python",
   "name": "python",
   "nbconvert_exporter": "python",
   "pygments_lexer": "ipython3",
   "version": "3.7.4"
  }
 },
 "nbformat": 4,
 "nbformat_minor": 2
}
