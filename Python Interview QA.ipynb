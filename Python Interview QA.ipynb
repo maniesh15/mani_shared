{
 "cells": [
  {
   "cell_type": "markdown",
   "metadata": {},
   "source": [
    "# 1) Generate a sequence number from ascending order from 2 list"
   ]
  },
  {
   "cell_type": "code",
   "execution_count": 1,
   "metadata": {},
   "outputs": [],
   "source": [
    "import numpy as np\n",
    "import pandas as pd"
   ]
  },
  {
   "cell_type": "code",
   "execution_count": 3,
   "metadata": {},
   "outputs": [],
   "source": [
    "a1 = [1,3,5,8]\n",
    "b1 = [2,4,6,7]"
   ]
  },
  {
   "cell_type": "code",
   "execution_count": 10,
   "metadata": {},
   "outputs": [],
   "source": [
    "zip_lst = zip(a1,b1)\n",
    "sum1 = [a1 + b1 for (a1, b1) in zip_lst]"
   ]
  },
  {
   "cell_type": "code",
   "execution_count": 11,
   "metadata": {},
   "outputs": [
    {
     "data": {
      "text/plain": [
       "[3, 7, 11, 15]"
      ]
     },
     "execution_count": 11,
     "metadata": {},
     "output_type": "execute_result"
    }
   ],
   "source": [
    "sum1"
   ]
  },
  {
   "cell_type": "code",
   "execution_count": 12,
   "metadata": {},
   "outputs": [],
   "source": [
    "y = sorted(sum1)"
   ]
  },
  {
   "cell_type": "code",
   "execution_count": 13,
   "metadata": {},
   "outputs": [
    {
     "name": "stdout",
     "output_type": "stream",
     "text": [
      "[3, 7, 11, 15]\n"
     ]
    }
   ],
   "source": [
    "print(y)"
   ]
  },
  {
   "cell_type": "code",
   "execution_count": 14,
   "metadata": {},
   "outputs": [],
   "source": [
    "y3 = y"
   ]
  },
  {
   "cell_type": "code",
   "execution_count": 18,
   "metadata": {},
   "outputs": [
    {
     "data": {
      "text/plain": [
       "[3, 7, 11, 15]"
      ]
     },
     "execution_count": 18,
     "metadata": {},
     "output_type": "execute_result"
    }
   ],
   "source": [
    "y3"
   ]
  },
  {
   "cell_type": "code",
   "execution_count": 22,
   "metadata": {},
   "outputs": [
    {
     "name": "stdout",
     "output_type": "stream",
     "text": [
      "[3, 7, 11, 15]\n"
     ]
    }
   ],
   "source": [
    "third = list(map(sum, zip(a1, b1)))\n",
    "print(third)"
   ]
  },
  {
   "cell_type": "code",
   "execution_count": 3,
   "metadata": {},
   "outputs": [
    {
     "name": "stdout",
     "output_type": "stream",
     "text": [
      "[11, 20, 15]\n"
     ]
    }
   ],
   "source": [
    "# Python code t get difference of two lists\n",
    "# Using set()\n",
    "def Diff(li1, li2):\n",
    "    return list(set(li1) - set(li2)) + list(set(li2) - set(li1))\n",
    " \n",
    "# Driver Code\n",
    "li1 = [20, 15, 11]\n",
    "li2 = [10, 6, 5]\n",
    "print(Diff(li1, li2))"
   ]
  },
  {
   "cell_type": "markdown",
   "metadata": {},
   "source": [
    "# 2 ) Find the second largest number from the output list"
   ]
  },
  {
   "cell_type": "code",
   "execution_count": 16,
   "metadata": {},
   "outputs": [],
   "source": [
    "def find_len(y3):\n",
    "    length = len(y3)\n",
    "    y3.sort()\n",
    "    \n",
    "    print('largest num --> ' , y3[length - 1] )\n",
    "    print('smallest num --> ' , y3[0] )\n",
    "    print('2nd largest num --> ' , y3[length - 2] )\n",
    "    print('2nd smallest num --> ' , y3[1] )\n",
    "    print('3rd largest num --> ' , y3[length - 3] )\n",
    "    print('3rd smallest num --> ' , y3[2] )"
   ]
  },
  {
   "cell_type": "code",
   "execution_count": 17,
   "metadata": {},
   "outputs": [
    {
     "name": "stdout",
     "output_type": "stream",
     "text": [
      "largest num -->  15\n",
      "smallest num -->  3\n",
      "2nd largest num -->  11\n",
      "2nd smallest num -->  7\n",
      "3rd largest num -->  7\n",
      "3rd smallest num -->  11\n"
     ]
    }
   ],
   "source": [
    "#list1 = [ 1, 45, 55, 100, 1, 456, 9]\n",
    "allnum = find_len(y3)"
   ]
  },
  {
   "cell_type": "code",
   "execution_count": 20,
   "metadata": {},
   "outputs": [
    {
     "name": "stdout",
     "output_type": "stream",
     "text": [
      "[0, 1, 2, 4, 4, 5, 6]\n"
     ]
    }
   ],
   "source": [
    "my_list = [2, 4, 5] \n",
    "another_list = [6, 0, 4, 1] \n",
    "my_list.extend(another_list) \n",
    "print(sorted(my_list)) "
   ]
  },
  {
   "cell_type": "code",
   "execution_count": 21,
   "metadata": {},
   "outputs": [
    {
     "name": "stdout",
     "output_type": "stream",
     "text": [
      "[3, 4, 5, 6, 7, 8, 9, 10]\n"
     ]
    }
   ],
   "source": [
    "List1 = [3, 5, 7, 9]\n",
    "List2 = [4, 6, 8, 10]\n",
    "List1.extend(List2)\n",
    "print(sorted(List1))"
   ]
  },
  {
   "cell_type": "code",
   "execution_count": 7,
   "metadata": {},
   "outputs": [],
   "source": [
    "def merge(list1, list2):\n",
    "    return sorted(list1 + list2)"
   ]
  },
  {
   "cell_type": "code",
   "execution_count": 8,
   "metadata": {},
   "outputs": [],
   "source": [
    "list1 = [1,2,3]\n",
    "list2 = [2,4,6]\n",
    "z = merge(list1,list2)"
   ]
  },
  {
   "cell_type": "code",
   "execution_count": 9,
   "metadata": {},
   "outputs": [
    {
     "data": {
      "text/plain": [
       "[1, 2, 2, 3, 4, 6]"
      ]
     },
     "execution_count": 9,
     "metadata": {},
     "output_type": "execute_result"
    }
   ],
   "source": [
    "z"
   ]
  },
  {
   "cell_type": "code",
   "execution_count": 2,
   "metadata": {},
   "outputs": [],
   "source": [
    "import numpy as np\n",
    "def sort1(x):\n",
    "    while np.any(x[:-1] > x[1:]):\n",
    "        np.random.shuffle(x)\n",
    "    return x"
   ]
  },
  {
   "cell_type": "code",
   "execution_count": 4,
   "metadata": {},
   "outputs": [
    {
     "data": {
      "text/plain": [
       "array([1, 2, 3, 4, 5])"
      ]
     },
     "execution_count": 4,
     "metadata": {},
     "output_type": "execute_result"
    }
   ],
   "source": [
    "x = np.array([2, 1, 4, 3, 5])\n",
    "sort1(x)"
   ]
  },
  {
   "cell_type": "code",
   "execution_count": 8,
   "metadata": {},
   "outputs": [
    {
     "name": "stdout",
     "output_type": "stream",
     "text": [
      "Please enter the Total Number of List Elements: 5\n",
      "Please enter the Value of 1 Element : 20\n",
      "Please enter the Value of 2 Element : 40\n",
      "Please enter the Value of 3 Element : 50\n",
      "Please enter the Value of 4 Element : 60\n",
      "Please enter the Value of 5 Element : 70\n",
      "Element After Sorting List in Ascending Order is :  [3, 3, 4, 4, 20, 40, 50, 60, 70]\n"
     ]
    }
   ],
   "source": [
    "##### NumList = []\n",
    "\n",
    "Number = int(input(\"Please enter the Total Number of List Elements: \"))\n",
    "for i in range(1, Number + 1):\n",
    "    value = int(input(\"Please enter the Value of %d Element : \" %i))\n",
    "    NumList.append(value)\n",
    "\n",
    "NumList.sort()\n",
    "\n",
    "print(\"Element After Sorting List in Ascending Order is : \", NumList)"
   ]
  },
  {
   "cell_type": "code",
   "execution_count": 4,
   "metadata": {},
   "outputs": [],
   "source": [
    "## Reduce ###\n",
    "def prod(x, y):\n",
    "    return x * y\n",
    "\n",
    "num_list = [1,2,3,4,5]"
   ]
  },
  {
   "cell_type": "code",
   "execution_count": 5,
   "metadata": {},
   "outputs": [],
   "source": [
    "from functools import reduce\n",
    "product = reduce(prod, num_list)"
   ]
  },
  {
   "cell_type": "code",
   "execution_count": 6,
   "metadata": {},
   "outputs": [
    {
     "data": {
      "text/plain": [
       "120"
      ]
     },
     "execution_count": 6,
     "metadata": {},
     "output_type": "execute_result"
    }
   ],
   "source": [
    "product"
   ]
  },
  {
   "cell_type": "code",
   "execution_count": 7,
   "metadata": {},
   "outputs": [
    {
     "name": "stdout",
     "output_type": "stream",
     "text": [
      "240\n"
     ]
    }
   ],
   "source": [
    "product = reduce(prod, num_list, 2)\n",
    "print(product) #240"
   ]
  },
  {
   "cell_type": "code",
   "execution_count": 8,
   "metadata": {},
   "outputs": [
    {
     "data": {
      "text/plain": [
       "120"
      ]
     },
     "execution_count": 8,
     "metadata": {},
     "output_type": "execute_result"
    }
   ],
   "source": [
    "product = reduce(lambda x,y: x*y, num_list)\n",
    "product"
   ]
  },
  {
   "cell_type": "code",
   "execution_count": 9,
   "metadata": {},
   "outputs": [
    {
     "data": {
      "text/plain": [
       "15"
      ]
     },
     "execution_count": 9,
     "metadata": {},
     "output_type": "execute_result"
    }
   ],
   "source": [
    "product = reduce(lambda x,y: x+y, num_list)\n",
    "product"
   ]
  },
  {
   "cell_type": "code",
   "execution_count": 10,
   "metadata": {},
   "outputs": [
    {
     "data": {
      "text/plain": [
       "[3, 7, 10, 13]"
      ]
     },
     "execution_count": 10,
     "metadata": {},
     "output_type": "execute_result"
    }
   ],
   "source": [
    "## sum 2 list ##\n",
    "l1 = [1,2,3,5]\n",
    "l2 = [2,5,7,8]\n",
    "\n",
    "sum1 = list(map(sum, zip(l1,l2)))\n",
    "sum1"
   ]
  },
  {
   "cell_type": "code",
   "execution_count": 15,
   "metadata": {},
   "outputs": [
    {
     "data": {
      "text/plain": [
       "[3, 7, 10, 13]"
      ]
     },
     "execution_count": 15,
     "metadata": {},
     "output_type": "execute_result"
    }
   ],
   "source": [
    "zip_lst = zip(l1,l2)\n",
    "sum2 = [l1+l2 for (l1,l2) in zip_lst]\n",
    "sum2"
   ]
  },
  {
   "cell_type": "code",
   "execution_count": 10,
   "metadata": {},
   "outputs": [
    {
     "name": "stdout",
     "output_type": "stream",
     "text": [
      "[10, 20, 15, 11, 5, 7]\n"
     ]
    }
   ],
   "source": [
    "## subtract 2 list ###\n",
    "\n",
    "#list1 = [10, 15, 20, 25, 30, 35, 40]\n",
    "#list2 = [25, 40, 35] \n",
    "\n",
    "\n",
    "# Python code t get difference of two lists\n",
    "# Using set()\n",
    "def Diff(li1, li2):\n",
    "    return list(set(li1) - set(li2)) + list(set(li2) - set(li1))\n",
    " \n",
    "# Driver Code\n",
    "li1 = [10, 15, 20]\n",
    "li2 = [5, 7, 11]\n",
    "print(Diff(li1, li2))"
   ]
  },
  {
   "cell_type": "code",
   "execution_count": null,
   "metadata": {},
   "outputs": [],
   "source": []
  }
 ],
 "metadata": {
  "kernelspec": {
   "display_name": "Python 3",
   "language": "python",
   "name": "python3"
  },
  "language_info": {
   "codemirror_mode": {
    "name": "ipython",
    "version": 3
   },
   "file_extension": ".py",
   "mimetype": "text/x-python",
   "name": "python",
   "nbconvert_exporter": "python",
   "pygments_lexer": "ipython3",
   "version": "3.7.4"
  }
 },
 "nbformat": 4,
 "nbformat_minor": 2
}
