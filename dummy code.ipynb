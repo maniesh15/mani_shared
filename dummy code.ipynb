{
 "cells": [
  {
   "cell_type": "code",
   "execution_count": 1,
   "metadata": {},
   "outputs": [],
   "source": [
    "def new_dec(orig_func):\n",
    "    def wrap_func():\n",
    "        print('print before the func')\n",
    "        orig_func()\n",
    "        print('print after the func')\n",
    "    return wrap_func"
   ]
  },
  {
   "cell_type": "code",
   "execution_count": 2,
   "metadata": {},
   "outputs": [],
   "source": [
    "def func_needs_Dec():\n",
    "    print('i want to be decorated')"
   ]
  },
  {
   "cell_type": "code",
   "execution_count": 3,
   "metadata": {},
   "outputs": [
    {
     "name": "stdout",
     "output_type": "stream",
     "text": [
      "i want to be decorated\n"
     ]
    }
   ],
   "source": [
    "func_needs_Dec()"
   ]
  },
  {
   "cell_type": "code",
   "execution_count": 7,
   "metadata": {},
   "outputs": [
    {
     "name": "stdout",
     "output_type": "stream",
     "text": [
      "print before the func\n",
      "i want to be decorated\n",
      "print after the func\n"
     ]
    }
   ],
   "source": [
    "@new_dec\n",
    "def func_needs_Dec():\n",
    "    print('i want to be decorated')\n",
    "    \n",
    "func_needs_Dec()"
   ]
  },
  {
   "cell_type": "markdown",
   "metadata": {},
   "source": [
    "# Generators examples"
   ]
  },
  {
   "cell_type": "code",
   "execution_count": 2,
   "metadata": {},
   "outputs": [
    {
     "name": "stdout",
     "output_type": "stream",
     "text": [
      "1->2->3->5->8->13->21->34->55->89->"
     ]
    }
   ],
   "source": [
    "class febgen:\n",
    "    def __init__(self):\n",
    "        self.first = 0\n",
    "        self.second = 1\n",
    "    def __iter__(self):\n",
    "        return self\n",
    "    def __next__(self):\n",
    "        fibnum = self.first + self.second\n",
    "        self.first = self.second\n",
    "        self.second = fibnum\n",
    "        \n",
    "        return fibnum\n",
    "\n",
    "fibseq = febgen()\n",
    "for i in range(0,10):\n",
    "    print(next(fibseq), end = \"->\")"
   ]
  },
  {
   "cell_type": "code",
   "execution_count": 3,
   "metadata": {},
   "outputs": [],
   "source": [
    "def fib_gen(n):\n",
    "    a =1\n",
    "    b =1\n",
    "    for i in range(n):\n",
    "        a,b = b,b+a\n",
    "        yield (a)"
   ]
  },
  {
   "cell_type": "code",
   "execution_count": 4,
   "metadata": {},
   "outputs": [
    {
     "data": {
      "text/plain": [
       "[1, 2, 3, 5, 8, 13, 21, 34, 55, 89]"
      ]
     },
     "execution_count": 4,
     "metadata": {},
     "output_type": "execute_result"
    }
   ],
   "source": [
    "list(fib_gen(10))"
   ]
  },
  {
   "cell_type": "code",
   "execution_count": 62,
   "metadata": {},
   "outputs": [
    {
     "name": "stdout",
     "output_type": "stream",
     "text": [
      "1 2 3 5 8 13 21 34 55 89 "
     ]
    }
   ],
   "source": [
    "for num in fib_gen(10):\n",
    "    print(num, end=' ')"
   ]
  },
  {
   "cell_type": "code",
   "execution_count": 2,
   "metadata": {},
   "outputs": [
    {
     "name": "stdout",
     "output_type": "stream",
     "text": [
      "1\n",
      "2\n",
      "3\n",
      "5\n",
      "8\n",
      "13\n",
      "21\n",
      "34\n",
      "55\n",
      "89\n"
     ]
    }
   ],
   "source": [
    "## without yield\n",
    "\n",
    "def fibgen(n):\n",
    "    a=1\n",
    "    b=1\n",
    "    out = []\n",
    "    for i in range(n):\n",
    "        a,b = b,a+b\n",
    "        out.append(a)\n",
    "    return out\n",
    "\n",
    "for num in fibgen(10):\n",
    "    print(num)"
   ]
  },
  {
   "cell_type": "code",
   "execution_count": 20,
   "metadata": {},
   "outputs": [
    {
     "data": {
      "text/plain": [
       "('alison', 90)"
      ]
     },
     "execution_count": 20,
     "metadata": {},
     "output_type": "execute_result"
    }
   ],
   "source": [
    "## Tuple unpacking ##\n",
    "\n",
    "work_hours = [('aby',35),('cane',40),('cyle',55),('mady',22),('alison',90)]\n",
    "\n",
    "def emp_check(work_hours):\n",
    "    cur_max = 0\n",
    "    employee_month = ''\n",
    "    for employee,hours in work_hours:\n",
    "        if hours > cur_max:\n",
    "            cur_max = hours\n",
    "            employee_month = employee\n",
    "    return (employee_month,hours)\n",
    "\n",
    "emp_check(work_hours)"
   ]
  },
  {
   "cell_type": "code",
   "execution_count": 36,
   "metadata": {},
   "outputs": [
    {
     "data": {
      "text/plain": [
       "[1, 4, 9, 16, 25]"
      ]
     },
     "execution_count": 36,
     "metadata": {},
     "output_type": "execute_result"
    }
   ],
   "source": [
    "### Filter , Map functions ###\n",
    "## Map is used to basically mapp cerrtain conditions for a given functions ##\n",
    "def square(num):\n",
    "    return num ** 2\n",
    "\n",
    "my_nums = [1,2,3,4,5]\n",
    "list(map(square,my_nums))"
   ]
  },
  {
   "cell_type": "code",
   "execution_count": 4,
   "metadata": {},
   "outputs": [
    {
     "data": {
      "text/plain": [
       "[2, 4, 6]"
      ]
     },
     "execution_count": 4,
     "metadata": {},
     "output_type": "execute_result"
    }
   ],
   "source": [
    "## Filter is nused to filter certain conditions for a given functions##\n",
    "\n",
    "def check_even(num):\n",
    "    if num%2==0:\n",
    "        return True\n",
    "    return False\n",
    "my_nums = [1,2,3,4,5,6]\n",
    "list(filter(check_even,my_nums))"
   ]
  },
  {
   "cell_type": "code",
   "execution_count": 3,
   "metadata": {},
   "outputs": [
    {
     "name": "stdout",
     "output_type": "stream",
     "text": [
      "True\n"
     ]
    },
    {
     "data": {
      "text/plain": [
       "[3, 5, 7]"
      ]
     },
     "execution_count": 3,
     "metadata": {},
     "output_type": "execute_result"
    }
   ],
   "source": [
    "def is_Prim(num):\n",
    "    if(num>1):\n",
    "        for i in range(2,num):\n",
    "            if(num%i==0):\n",
    "                return False\n",
    "            return True\n",
    "A1 = is_Prim(29)\n",
    "print(A1)\n",
    "my_nums = [1,2,3,4,5,6,7]\n",
    "list(filter(is_Prim,my_nums))"
   ]
  },
  {
   "cell_type": "code",
   "execution_count": 18,
   "metadata": {},
   "outputs": [
    {
     "data": {
      "text/plain": [
       "[1, 4, 9, 16, 25]"
      ]
     },
     "execution_count": 18,
     "metadata": {},
     "output_type": "execute_result"
    }
   ],
   "source": [
    "l1 = [1,2,3,4,5]\n",
    "\n",
    "res = [ x**2 for x in l1]\n",
    "res"
   ]
  },
  {
   "cell_type": "code",
   "execution_count": 19,
   "metadata": {},
   "outputs": [],
   "source": [
    "def sq(l1):\n",
    "    for i in l1:\n",
    "        print(i**2, end=' ' )"
   ]
  },
  {
   "cell_type": "code",
   "execution_count": 20,
   "metadata": {},
   "outputs": [
    {
     "name": "stdout",
     "output_type": "stream",
     "text": [
      "1 4 9 16 25 "
     ]
    }
   ],
   "source": [
    "sq(l1)"
   ]
  },
  {
   "cell_type": "code",
   "execution_count": 29,
   "metadata": {},
   "outputs": [],
   "source": [
    "def square(list1):\n",
    "    return list(map(lambda x: x ** 2, list1))\n"
   ]
  },
  {
   "cell_type": "code",
   "execution_count": 33,
   "metadata": {},
   "outputs": [
    {
     "data": {
      "text/plain": [
       "[4, 16, 64]"
      ]
     },
     "execution_count": 33,
     "metadata": {},
     "output_type": "execute_result"
    }
   ],
   "source": [
    "list1 = [2,4,8]\n",
    "square(list1)"
   ]
  },
  {
   "cell_type": "code",
   "execution_count": 26,
   "metadata": {},
   "outputs": [
    {
     "data": {
      "text/plain": [
       "[1, 4, 9, 16, 25]"
      ]
     },
     "execution_count": 26,
     "metadata": {},
     "output_type": "execute_result"
    }
   ],
   "source": [
    "list(square(l1))"
   ]
  },
  {
   "cell_type": "code",
   "execution_count": 27,
   "metadata": {},
   "outputs": [
    {
     "name": "stdout",
     "output_type": "stream",
     "text": [
      "1\n",
      "4\n",
      "9\n",
      "16\n",
      "25\n"
     ]
    }
   ],
   "source": [
    "for num in square(l1):\n",
    "    print(num)"
   ]
  }
 ],
 "metadata": {
  "kernelspec": {
   "display_name": "Python 3",
   "language": "python",
   "name": "python3"
  },
  "language_info": {
   "codemirror_mode": {
    "name": "ipython",
    "version": 3
   },
   "file_extension": ".py",
   "mimetype": "text/x-python",
   "name": "python",
   "nbconvert_exporter": "python",
   "pygments_lexer": "ipython3",
   "version": "3.7.4"
  }
 },
 "nbformat": 4,
 "nbformat_minor": 2
}
